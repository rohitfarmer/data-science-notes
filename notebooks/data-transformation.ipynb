{
 "cells": [
  {
   "cell_type": "code",
   "execution_count": 11,
   "metadata": {
    "collapsed": true
   },
   "outputs": [],
   "source": [
    "# Import external libraries.\n",
    "import numpy\n",
    "from scipy.stats import skewnorm\n",
    "from scipy.stats import skew \n",
    "import matplotlib.pyplot as plt\n",
    "import matplotlib.ticker as ticker\n",
    "import seaborn as sns\n",
    "%matplotlib inline"
   ]
  },
  {
   "cell_type": "markdown",
   "metadata": {},
   "source": [
    "# Log Transformation"
   ]
  },
  {
   "cell_type": "code",
   "execution_count": 12,
   "metadata": {
    "collapsed": false
   },
   "outputs": [
    {
     "name": "stdout",
     "output_type": "stream",
     "text": [
      "Skewness for non-transformed data :  0.9621785181109989\n"
     ]
    }
   ],
   "source": [
    "# Generate random data points from a skewed normal distribution.\n",
    "data = skewnorm.rvs(10, size=10000, loc=1)\n",
    "print('Skewness for non-transformed data : ', skew(data)) "
   ]
  },
  {
   "cell_type": "code",
   "execution_count": 13,
   "metadata": {
    "collapsed": false
   },
   "outputs": [
    {
     "name": "stdout",
     "output_type": "stream",
     "text": [
      "Skewness for log-transformed data :  0.21750128142912584\n"
     ]
    }
   ],
   "source": [
    "# Log transform the data.\n",
    "log_data = numpy.log(data)\n",
    "print('Skewness for log-transformed data : ', skew(log_data)) "
   ]
  },
  {
   "cell_type": "code",
   "execution_count": 14,
   "metadata": {
    "collapsed": false
   },
   "outputs": [
    {
     "data": {
      "image/png": "[encoded data removed]",
      "text/plain": [
       "<Figure size 864x288 with 2 Axes>"
      ]
     },
     "metadata": {},
     "output_type": "display_data"
    }
   ],
   "source": [
    "fig, axs = plt.subplots(ncols=2, sharey = \"all\")\n",
    "fig.set_size_inches(12,4)\n",
    "sns.set_context(context = \"paper\", font_scale = 1.5)\n",
    "sns.set_palette('Dark2')\n",
    "h1 = sns.distplot(data, bins = 20, ax=axs[0], kde = False)\n",
    "h1.set_title(\"Non-Transformed Data\")\n",
    "h1.set_xlabel(\"Feature\")\n",
    "h1.xaxis.set_major_locator(ticker.MultipleLocator(0.5))\n",
    "h1.set_ylabel(\"Frequency\")\n",
    "h2 = sns.distplot(log_data, bins = 20, ax=axs[1], kde = False)\n",
    "h2.set_title(\"Log-Transformed Data\")\n",
    "h2.xaxis.set_major_locator(ticker.MultipleLocator(0.2))\n",
    "h2.set_xlabel(\"Feature\")\n",
    "plt.savefig(\"../images/data-transformation/log-transformation.png\", dpi=300, bbox_inches = 'tight')"
   ]
  },
  {
   "cell_type": "code",
   "execution_count": null,
   "metadata": {
    "collapsed": true
   },
   "outputs": [],
   "source": []
  }
 ],
 "metadata": {
  "kernelspec": {
   "display_name": "Python 3",
   "language": "python",
   "name": "python3"
  },
  "language_info": {
   "codemirror_mode": {
    "name": "ipython",
    "version": 3
   },
   "file_extension": ".py",
   "mimetype": "text/x-python",
   "name": "python",
   "nbconvert_exporter": "python",
   "pygments_lexer": "ipython3",
   "version": "3.5.3"
  }
 },
 "nbformat": 4,
 "nbformat_minor": 2
}
